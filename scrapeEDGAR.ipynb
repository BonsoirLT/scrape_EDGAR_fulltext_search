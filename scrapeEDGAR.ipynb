{
 "cells": [
  {
   "cell_type": "markdown",
   "metadata": {},
   "source": [
    "# Scrape EDGAR advanced search\n",
    "### Scrape the full text search result from EDGAR to local file\n",
    "\n",
    "My code is best for exploring and extracting small sample (you have specific targets and refined keyword).\n",
    "\n",
    "For bulk execution, it is better to download filing index and search each filing content one by one. A great reference is http://kaichen.work/?p=681 from Professor Kai Chen. He is a great coding mentor for academic research. I learned a lot from him.\n",
    "\n",
    "#### Webpage: https://www.sec.gov/edgar/search/\n",
    "\n",
    "There is another sec search engine \"https://www.sec.gov/cgi-bin/srch-edgar\".\n",
    "Pro for that one is that it displays all search results. Con is that it can't select specific filing type.\n",
    "\n",
    "#### Last updated on: 03/02/2021\n",
    "#### Created by: Lydia Lu Tong"
   ]
  },
  {
   "cell_type": "code",
   "execution_count": 1,
   "metadata": {},
   "outputs": [],
   "source": [
    "# Import packages\n",
    "# Please make sure you installed them already\n",
    "import pandas as pd\n",
    "import numpy as np\n",
    "import re\n",
    "import time\n",
    "import io\n",
    "from requests import get\n",
    "from bs4 import BeautifulSoup\n",
    "from selenium import webdriver\n",
    "from webdriver_manager.chrome import ChromeDriverManager #this ensures that you have the latest driver exe"
   ]
  },
  {
   "cell_type": "code",
   "execution_count": 2,
   "metadata": {},
   "outputs": [],
   "source": [
    "# Function to generate the selection results about filing type & date range\n",
    "def search_main(filetype, datefrom = \"2019-01-01\", dateto = \"2019-12-31\",):\n",
    "    \n",
    "    daterange = \"dateRange=custom&category=custom&startdt={}&enddt={}\".format(datefrom,dateto)\n",
    "    \n",
    "    if len(filetype) == 1:\n",
    "        filerange = \"&forms=\" + filetype[0]\n",
    "    elif len(filetype) == 0:\n",
    "        filerange = \"\"\n",
    "    else:\n",
    "        filerange = \"&forms=\" + \"%252C\".join(filetype)\n",
    "    root = \" https://www.sec.gov/edgar/search/#/\"\n",
    "    main = root + daterange + filerange\n",
    "    \n",
    "    return main"
   ]
  },
  {
   "cell_type": "code",
   "execution_count": 3,
   "metadata": {},
   "outputs": [],
   "source": [
    "# Function to add keyword or phrase you want to search\n",
    "def search_text(yourtext):\n",
    "    input_text = driver.find_elements_by_xpath(\"//div/input[@class='company form-control border-onfocus hide-on-short-form text-black']\")\n",
    "    input_text[0].send_keys(yourtext)\n",
    "    button_search = driver.find_elements_by_xpath(\"//div/button[@id='search']\")\n",
    "    button_search[0].click()"
   ]
  },
  {
   "cell_type": "markdown",
   "metadata": {},
   "source": [
    "### Main"
   ]
  },
  {
   "cell_type": "code",
   "execution_count": 4,
   "metadata": {},
   "outputs": [
    {
     "name": "stderr",
     "output_type": "stream",
     "text": [
      "\n",
      "\n",
      "====== WebDriver manager ======\n",
      "Current google-chrome version is 90.0.4430\n",
      "Get LATEST driver version for 90.0.4430\n",
      "Driver [C:\\Users\\ltong\\.wdm\\drivers\\chromedriver\\win32\\90.0.4430.24\\chromedriver.exe] found in cache\n"
     ]
    }
   ],
   "source": [
    "### Set up \n",
    "adsh = []\n",
    "file = []\n",
    "name = []\n",
    "time_file = []\n",
    "time_report = []\n",
    "list_cik = []\n",
    "list_entity = []\n",
    "driver = webdriver.Chrome(ChromeDriverManager().install())"
   ]
  },
  {
   "cell_type": "code",
   "execution_count": 5,
   "metadata": {},
   "outputs": [],
   "source": [
    "### Set up the selection\n",
    "filetype = ['20-F']\n",
    "datefrom = \"2020-10-01\"\n",
    "dateto = \"2020-12-31\"\n",
    "###Set up your search keyword below\n",
    "yourtext = r''\n",
    "\n",
    "\n",
    "main = search_main(filetype,datefrom,dateto)\n",
    "driver.get(main)\n",
    "time.sleep(1)\n",
    "search_text(yourtext)"
   ]
  },
  {
   "cell_type": "markdown",
   "metadata": {},
   "source": [
    "#### You also can mannually adjust the search requirements here and then continue to next code block\n",
    "\n",
    "#### The max ouput of search results is 1000. Please tailor your time span and filing type to make sure it is within the limit. If the # of search results exceeds 1000, the website only displays 1000 of them so my code will only capture that 1000 obs."
   ]
  },
  {
   "cell_type": "code",
   "execution_count": 6,
   "metadata": {},
   "outputs": [
    {
     "name": "stdout",
     "output_type": "stream",
     "text": [
      "1\n"
     ]
    }
   ],
   "source": [
    "### Get search results total page numbers\n",
    "elements = driver.find_elements_by_xpath(\"//ul/li/a[@class='page-link']\")\n",
    "temp = []\n",
    "for i in elements:\n",
    "    try:\n",
    "        t = int(i.text)\n",
    "    except:\n",
    "        t = 0\n",
    "    temp.append(t)\n",
    "maxpage = max(temp)\n",
    "if maxpage == 0:\n",
    "    maxpage = maxpage + 1\n",
    "print(maxpage)"
   ]
  },
  {
   "cell_type": "code",
   "execution_count": 7,
   "metadata": {},
   "outputs": [],
   "source": [
    "### Start scraping\n",
    "mainnow =  driver.current_url\n",
    "for i in range(1,maxpage+1):\n",
    "    page = mainnow + \"&page={}\".format(str(i))\n",
    "    driver.get(page)\n",
    "    ### Select additional columns you need\n",
    "    driver.execute_script(\"window.scrollTo(0, 750)\") \n",
    "    time.sleep(1)\n",
    "    col_cik = driver.find_elements_by_xpath(\"//div[@class='form-check form-check-inline show-columns-checkbox']/input[@id='col-cik']\")\n",
    "    col_cik[0].click()\n",
    "    \n",
    "    filing = driver.find_elements_by_xpath(\"//table/tbody/tr/td[@class='filetype']/a\")\n",
    "    filed = driver.find_elements_by_xpath(\"//table/tbody/tr/td[@class='filed']\")\n",
    "    report = driver.find_elements_by_xpath(\"//table/tbody/tr/td[@class='enddate']\")\n",
    "    entity = driver.find_elements_by_xpath(\"//table/tbody/tr/td[@class='entity-name']\")\n",
    "    cik = driver.find_elements_by_xpath(\"//table/tbody/tr/td[@class='cik']\")\n",
    "          \n",
    "    for i in range(0,len(filed)):\n",
    "        time_file.append(filed[i].text)\n",
    "        time_report.append(report[i].text)\n",
    "        list_entity.append(entity[i].text)\n",
    "        list_cik.append(cik[i].text.replace('CIK ',''))\n",
    "        data_adsh = filing[i].get_attribute('data-adsh') \n",
    "        data_file = filing[i].get_attribute('data-file-name') \n",
    "        adsh.append(data_adsh)\n",
    "        file.append(data_file)\n",
    "        name.append(filing[i].text)"
   ]
  },
  {
   "cell_type": "code",
   "execution_count": 8,
   "metadata": {},
   "outputs": [
    {
     "name": "stdout",
     "output_type": "stream",
     "text": [
      "56\n"
     ]
    }
   ],
   "source": [
    "print(len(list_entity))"
   ]
  },
  {
   "cell_type": "code",
   "execution_count": 9,
   "metadata": {},
   "outputs": [
    {
     "data": {
      "text/html": [
       "<div>\n",
       "<style scoped>\n",
       "    .dataframe tbody tr th:only-of-type {\n",
       "        vertical-align: middle;\n",
       "    }\n",
       "\n",
       "    .dataframe tbody tr th {\n",
       "        vertical-align: top;\n",
       "    }\n",
       "\n",
       "    .dataframe thead th {\n",
       "        text-align: right;\n",
       "    }\n",
       "</style>\n",
       "<table border=\"1\" class=\"dataframe\">\n",
       "  <thead>\n",
       "    <tr style=\"text-align: right;\">\n",
       "      <th></th>\n",
       "      <th>entity</th>\n",
       "      <th>cik</th>\n",
       "      <th>time_filed</th>\n",
       "      <th>time_report</th>\n",
       "      <th>file_name</th>\n",
       "      <th>file_link</th>\n",
       "      <th>file_num</th>\n",
       "    </tr>\n",
       "  </thead>\n",
       "  <tbody>\n",
       "    <tr>\n",
       "      <th>0</th>\n",
       "      <td>ATIF Holdings Ltd (ATIF)</td>\n",
       "      <td>0001755058</td>\n",
       "      <td>2020-12-31</td>\n",
       "      <td>2020-07-31</td>\n",
       "      <td>20-F (Annual report - foreign issuer)</td>\n",
       "      <td>tm2038402d1_20f.htm</td>\n",
       "      <td>0001104659-20-140671</td>\n",
       "    </tr>\n",
       "    <tr>\n",
       "      <th>1</th>\n",
       "      <td>OneSmart International Education Group Ltd (ONE)</td>\n",
       "      <td>0001722380</td>\n",
       "      <td>2020-12-31</td>\n",
       "      <td>2020-08-31</td>\n",
       "      <td>20-F (Annual report - foreign issuer)</td>\n",
       "      <td>one-20200831x20f.htm</td>\n",
       "      <td>0001104659-20-140691</td>\n",
       "    </tr>\n",
       "    <tr>\n",
       "      <th>2</th>\n",
       "      <td>Vision Marine Technologies Inc. (VMAR)</td>\n",
       "      <td>0001813783</td>\n",
       "      <td>2020-12-30</td>\n",
       "      <td>2020-08-31</td>\n",
       "      <td>20-F (Annual report - foreign issuer)</td>\n",
       "      <td>tm2039477d1_20f.htm</td>\n",
       "      <td>0001104659-20-140616</td>\n",
       "    </tr>\n",
       "    <tr>\n",
       "      <th>3</th>\n",
       "      <td>Bright Scholar Education Holdings Ltd (BEDU)</td>\n",
       "      <td>0001696355</td>\n",
       "      <td>2020-12-23</td>\n",
       "      <td>2020-08-31</td>\n",
       "      <td>20-F (Annual report - foreign issuer)</td>\n",
       "      <td>bedu-20200831x20f.htm</td>\n",
       "      <td>0001104659-20-139121</td>\n",
       "    </tr>\n",
       "    <tr>\n",
       "      <th>4</th>\n",
       "      <td>Borqs Technologies, Inc. (BRQS, BRQSW)</td>\n",
       "      <td>0001650575</td>\n",
       "      <td>2020-12-18</td>\n",
       "      <td>2019-12-31</td>\n",
       "      <td>20-F/A (Annual report - foreign issuer)</td>\n",
       "      <td>f20f2019a1_borqstechnologies.htm</td>\n",
       "      <td>0001213900-20-043529</td>\n",
       "    </tr>\n",
       "  </tbody>\n",
       "</table>\n",
       "</div>"
      ],
      "text/plain": [
       "                                             entity         cik  time_filed  \\\n",
       "0                          ATIF Holdings Ltd (ATIF)  0001755058  2020-12-31   \n",
       "1  OneSmart International Education Group Ltd (ONE)  0001722380  2020-12-31   \n",
       "2            Vision Marine Technologies Inc. (VMAR)  0001813783  2020-12-30   \n",
       "3      Bright Scholar Education Holdings Ltd (BEDU)  0001696355  2020-12-23   \n",
       "4            Borqs Technologies, Inc. (BRQS, BRQSW)  0001650575  2020-12-18   \n",
       "\n",
       "  time_report                                file_name  \\\n",
       "0  2020-07-31    20-F (Annual report - foreign issuer)   \n",
       "1  2020-08-31    20-F (Annual report - foreign issuer)   \n",
       "2  2020-08-31    20-F (Annual report - foreign issuer)   \n",
       "3  2020-08-31    20-F (Annual report - foreign issuer)   \n",
       "4  2019-12-31  20-F/A (Annual report - foreign issuer)   \n",
       "\n",
       "                          file_link              file_num  \n",
       "0               tm2038402d1_20f.htm  0001104659-20-140671  \n",
       "1              one-20200831x20f.htm  0001104659-20-140691  \n",
       "2               tm2039477d1_20f.htm  0001104659-20-140616  \n",
       "3             bedu-20200831x20f.htm  0001104659-20-139121  \n",
       "4  f20f2019a1_borqstechnologies.htm  0001213900-20-043529  "
      ]
     },
     "execution_count": 9,
     "metadata": {},
     "output_type": "execute_result"
    }
   ],
   "source": [
    "df = pd.DataFrame({'entity': list_entity, 'cik': list_cik, \n",
    "                   'time_filed': time_file,'time_report':time_report,\n",
    "                   'file_name':name,'file_link':file,\n",
    "                  'file_num':adsh})\n",
    "df.head()"
   ]
  },
  {
   "cell_type": "code",
   "execution_count": 10,
   "metadata": {},
   "outputs": [],
   "source": [
    "df.to_excel(\"{}_{}_{}.xlsx\".format(\"-\".join(filetype),datefrom,dateto),index=False)"
   ]
  },
  {
   "cell_type": "markdown",
   "metadata": {},
   "source": [
    "You can access to FULL filing content by using the cik number and file number.\n",
    "\n",
    "SEC filing has a fixed weblink structure.\n",
    "\n",
    "Filing link example to see the pattern:\n",
    "\n",
    "https://www.sec.gov/Archives/edgar/data/0001701261/000110465919077298/0001104659-19-077298-index.html\n",
    "\n",
    "https://www.sec.gov/Archives/edgar/data/1404935/000147793219001558/filename1.htm"
   ]
  }
 ],
 "metadata": {
  "kernelspec": {
   "display_name": "Python 3",
   "language": "python",
   "name": "python3"
  },
  "language_info": {
   "codemirror_mode": {
    "name": "ipython",
    "version": 3
   },
   "file_extension": ".py",
   "mimetype": "text/x-python",
   "name": "python",
   "nbconvert_exporter": "python",
   "pygments_lexer": "ipython3",
   "version": "3.8.5"
  }
 },
 "nbformat": 4,
 "nbformat_minor": 4
}
